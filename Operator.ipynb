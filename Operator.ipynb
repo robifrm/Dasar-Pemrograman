{
 "cells": [
  {
   "cell_type": "markdown",
   "id": "41a248ea-ce2a-443c-bc36-015a6297661a",
   "metadata": {},
   "source": [
    "<h1> Penggunaan Aritmatika Dalam Python </h1>"
   ]
  },
  {
   "cell_type": "code",
   "execution_count": 2,
   "id": "f590da23-bb39-4b44-9555-5615e52a788d",
   "metadata": {},
   "outputs": [
    {
     "name": "stdout",
     "output_type": "stream",
     "text": [
      "27\n",
      "19\n",
      "92\n",
      "5.75\n",
      "5\n",
      "279841\n",
      "3\n"
     ]
    }
   ],
   "source": [
    "num1 = 23\n",
    "num2 = 4\n",
    "\n",
    "hasil_jumlah = num1 + num2\n",
    "hasil_kurang = num1 - num2\n",
    "hasil_kali = num1 * num2\n",
    "hasil_bagi = num1 / num2\n",
    "hasil_bagi_bulat = num1 // num2\n",
    "hasil_pangkat = num1 ** num2\n",
    "hasil_modulus = num1 % num2\n",
    "\n",
    "print(hasil_jumlah)\n",
    "print(hasil_kurang)\n",
    "print(hasil_kali)\n",
    "print(hasil_bagi)\n",
    "print(hasil_bagi_bulat)\n",
    "print(hasil_pangkat)\n",
    "print(hasil_modulus)"
   ]
  },
  {
   "cell_type": "markdown",
   "id": "bdae7d4c-e43d-4faf-8c7b-91993af3546e",
   "metadata": {},
   "source": [
    "<h1> Operator Penugasan </h1>"
   ]
  },
  {
   "cell_type": "code",
   "execution_count": 16,
   "id": "8ebde7a9-1a4b-4053-b2ab-d961000df698",
   "metadata": {},
   "outputs": [
    {
     "name": "stdout",
     "output_type": "stream",
     "text": [
      "10\n",
      "15\n",
      "13\n",
      "26\n",
      "13.0\n",
      "6.0\n",
      "2.0\n"
     ]
    }
   ],
   "source": [
    "x = 10\n",
    "print(x)\n",
    "x+= 5 #x = x + 5\n",
    "print(x) #15\n",
    "x-= 2 #x = x - 2\n",
    "print(x) #13\n",
    "x*= 2 #x = x * 2\n",
    "print(x) #26\n",
    "x/= 2 #x = x / 2\n",
    "print(x) #13.0\n",
    "x//= 2 #x = x // 2\n",
    "print(x) #6.0\n",
    "x%= 4 #x = x % 2\n",
    "print(x) #2.0"
   ]
  },
  {
   "cell_type": "markdown",
   "id": "617d0ba4-14b2-4734-a028-b2f722b454f8",
   "metadata": {},
   "source": [
    "<h1> Operator Perbandingan </h1>"
   ]
  },
  {
   "cell_type": "code",
   "execution_count": 33,
   "id": "1edeea0f-0240-4263-a286-93e1d421935b",
   "metadata": {},
   "outputs": [
    {
     "name": "stdout",
     "output_type": "stream",
     "text": [
      "False\n",
      "True\n",
      "True\n",
      "False\n"
     ]
    }
   ],
   "source": [
    "r = 100\n",
    "i = 88\n",
    "\n",
    "print(r==i) #false\n",
    "print(r!=i) #true\n",
    "print(r>=i) #true\n",
    "print(r<=i) #false"
   ]
  },
  {
   "cell_type": "markdown",
   "id": "aa42436a-bfce-4616-a194-5b6f95518c12",
   "metadata": {},
   "source": [
    "<h1> Operator Logika </h1>"
   ]
  },
  {
   "cell_type": "markdown",
   "id": "b4347cdd-6f31-4550-88d0-4b13f5209a82",
   "metadata": {},
   "source": [
    "val1 = 20\n",
    "val2 = 5\n",
    "\n",
    "opr_and = val1 > val2 and val1 <23 #true\n",
    "opr_or = val1 == 19 or val2 >= 5 #true\n",
    "opr_not = not(opr_and and opr_or) #false\n",
    "\n",
    "print(opr_and)\n",
    "print(opr_or)\n",
    "print(opr_not)"
   ]
  },
  {
   "cell_type": "markdown",
   "id": "ccee119b-0651-4e45-8177-5b820559b1a2",
   "metadata": {},
   "source": [
    "<h1> Operator Identitas </h1>"
   ]
  },
  {
   "cell_type": "code",
   "execution_count": 35,
   "id": "2d2f7633-c11a-4939-8ed7-a856c49dab9b",
   "metadata": {},
   "outputs": [
    {
     "name": "stdout",
     "output_type": "stream",
     "text": [
      "True\n",
      "False\n",
      "True\n"
     ]
    }
   ],
   "source": [
    "food = [\"Mie Ayam\", \"Bakso\", \"Siomay\"]\n",
    "fav_food = food\n",
    "your_food = [\"Mie Ayam\", \"Bakso\", \"Siomay\"]\n",
    "name = \"Roby\"\n",
    "your_name = \"Roby\"\n",
    "\n",
    "print(fav_food is food)\n",
    "print(food is your_food)\n",
    "print(name is your_name)"
   ]
  },
  {
   "cell_type": "markdown",
   "id": "6f86281b-74a7-42bb-be05-d9bacce45b95",
   "metadata": {},
   "source": [
    "<h1> Operator Keanggotaan </h1>"
   ]
  },
  {
   "cell_type": "code",
   "execution_count": 10,
   "id": "b6f880f3-e5fd-4f3d-b55d-f08fed8def13",
   "metadata": {},
   "outputs": [
    {
     "name": "stdout",
     "output_type": "stream",
     "text": [
      "False\n",
      "False\n",
      "False\n",
      "False\n"
     ]
    }
   ],
   "source": [
    "country = [\"Indonesia\", \"Singapore\", \"Australia\"]\n",
    "\n",
    "print(\"Indonesia\" == country)\n",
    "print(\"Singapore\" == country)\n",
    "print(\"Australia\" == country)\n",
    "print(\"Korea\" == country and \"Japan\" not in country)"
   ]
  },
  {
   "cell_type": "markdown",
   "id": "85d2f327-cb8b-4084-b55f-084ad9237e8c",
   "metadata": {},
   "source": [
    "<h1> Operator Bitwise </h1>"
   ]
  },
  {
   "cell_type": "code",
   "execution_count": null,
   "id": "fd0a2480-29ec-4dde-bb75-f4953c5879a8",
   "metadata": {},
   "outputs": [],
   "source": [
    "nilai1 = 225\n",
    "nilai2 = 15\n",
    "\n",
    "bit_and = nilai1 & nilai2\n",
    "bit_or = nilai1 | nilai2\n",
    "bit_xor = nilai1 ^ nilai2\n",
    "#11111111 =>225\n",
    "#00001111 =>15\n",
    "\n",
    "print(bit_and)\n",
    "print(bit_or)\n",
    "print(bit_xor)"
   ]
  }
 ],
 "metadata": {
  "kernelspec": {
   "display_name": "Python 3 (ipykernel)",
   "language": "python",
   "name": "python3"
  },
  "language_info": {
   "codemirror_mode": {
    "name": "ipython",
    "version": 3
   },
   "file_extension": ".py",
   "mimetype": "text/x-python",
   "name": "python",
   "nbconvert_exporter": "python",
   "pygments_lexer": "ipython3",
   "version": "3.11.7"
  }
 },
 "nbformat": 4,
 "nbformat_minor": 5
}
