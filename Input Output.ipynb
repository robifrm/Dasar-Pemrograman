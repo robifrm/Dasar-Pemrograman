{
 "cells": [
  {
   "cell_type": "markdown",
   "id": "e04fb8b9-77b6-4f48-85a0-eabc715cc53a",
   "metadata": {},
   "source": [
    "<h1> Nilai Statis dan Dinamis</h1>"
   ]
  },
  {
   "cell_type": "code",
   "execution_count": 1,
   "id": "59aa7e75-1f47-4d07-80d3-5c8bc2ce8e33",
   "metadata": {},
   "outputs": [
    {
     "name": "stdin",
     "output_type": "stream",
     "text": [
      "insert your first name M.\n",
      "insert your middle name Robi\n",
      "insert your last name Firmansyah\n"
     ]
    },
    {
     "name": "stdout",
     "output_type": "stream",
     "text": [
      "Hello  M. Robi Firmansyah !!\n"
     ]
    }
   ],
   "source": [
    "first_name = input('insert your first name')\n",
    "middle_name = input('insert your middle name')\n",
    "last_name = input('insert your last name')\n",
    "\n",
    "print(\"Hello \", first_name, middle_name, last_name, \"!!\")"
   ]
  },
  {
   "cell_type": "markdown",
   "id": "ad7d5094-f3db-4f52-a3fc-0abd25a59c02",
   "metadata": {},
   "source": [
    "<h1> Luas Keliling Persegi</h1>"
   ]
  },
  {
   "cell_type": "code",
   "execution_count": 9,
   "id": "5d4551ac-9681-40bf-9f10-853e7ae0f967",
   "metadata": {},
   "outputs": [
    {
     "name": "stdin",
     "output_type": "stream",
     "text": [
      "Panjang 6\n",
      "Lebar 5\n"
     ]
    },
    {
     "name": "stdout",
     "output_type": "stream",
     "text": [
      "Luas :  30\n",
      "Keliling :  22\n"
     ]
    }
   ],
   "source": [
    "#Luas => p * L\n",
    "#Keliling => 2 * (p+l)\n",
    "\n",
    "panjang = input('Panjang')\n",
    "lebar = input('Lebar')\n",
    "Luas = int (panjang) * int (lebar)\n",
    "Keliling = 2 * (int (panjang) + int (lebar))\n",
    "\n",
    "print(\"Luas : \", Luas)\n",
    "print(\"Keliling : \", Keliling)\n",
    "\n"
   ]
  },
  {
   "cell_type": "markdown",
   "id": "269cb32e-21ec-4833-932d-4d6d11cfb2db",
   "metadata": {},
   "source": [
    "<h1> Output Separator</h1>"
   ]
  },
  {
   "cell_type": "code",
   "execution_count": 13,
   "id": "3e65635a-331f-4d8d-b42c-bafee5ef36c0",
   "metadata": {},
   "outputs": [
    {
     "name": "stdout",
     "output_type": "stream",
     "text": [
      "12\n",
      "April\n",
      "2004\n"
     ]
    }
   ],
   "source": [
    "print(\"12\", \"April\", \"2004\", sep='\\n')\n"
   ]
  },
  {
   "cell_type": "markdown",
   "id": "379e0cd1-bc40-4d03-9f2f-d06f4cc81a0a",
   "metadata": {},
   "source": [
    "<h1> Mempormat dengan String </h1>"
   ]
  },
  {
   "cell_type": "code",
   "execution_count": null,
   "id": "6f01a8a3-13ea-4bf5-b4d9-1c9f174e2ec4",
   "metadata": {},
   "outputs": [],
   "source": []
  },
  {
   "cell_type": "markdown",
   "id": "1a2a699c-d909-4ec1-a51f-ab58035394ef",
   "metadata": {},
   "source": [
    "<h1> Memformat dengan Key </h1>"
   ]
  },
  {
   "cell_type": "code",
   "execution_count": 18,
   "id": "1ba4d18a-4a57-446e-9bc0-abd3e402f478",
   "metadata": {},
   "outputs": [
    {
     "name": "stdout",
     "output_type": "stream",
     "text": [
      "Nama-nama bulan Maret,April,Desember\n"
     ]
    }
   ],
   "source": [
    "bulan1 = \"April\"\n",
    "bulan2 = \"Desember\"\n",
    "bulan3 = \"Maret\"\n",
    "\n",
    "print(\"Nama-nama bulan {2},{0},{1}\".format(bulan1,bulan2,bulan3))"
   ]
  },
  {
   "cell_type": "markdown",
   "id": "3d97031b-a02b-4b45-92d2-a8f8b0c8270f",
   "metadata": {},
   "source": [
    "<h1> Memformat Pengenalan dengan String </h1>"
   ]
  },
  {
   "cell_type": "code",
   "execution_count": null,
   "id": "ebc2a474-70b8-4ee5-82ef-ffde8ef05f59",
   "metadata": {},
   "outputs": [],
   "source": [
    "print(\"Nama saya {fname} {lname}\".format(fname='M. Robi Firmansyah'"
   ]
  },
  {
   "cell_type": "code",
   "execution_count": 7,
   "id": "402fbbe5-07e5-4ef0-aa25-ca316006a1e2",
   "metadata": {},
   "outputs": [
    {
     "name": "stdout",
     "output_type": "stream",
     "text": [
      "U\n",
      "a\n",
      "Universitas\n",
      "Universitas Nusa Putra\n",
      "Nusa Putra\n",
      "Universitas Nusa Putra\n",
      "artuP asuN satisrevinU\n"
     ]
    }
   ],
   "source": [
    "kampus = \"Universitas Nusa Putra\"\n",
    "print(kampus[0]) #u\n",
    "print(kampus[-1]) #a\n",
    "print(kampus[0:11])\n",
    "print(kampus[0:])\n",
    "print(kampus[12:])\n",
    "print(kampus[::])\n",
    "print(kampus[::-1])"
   ]
  },
  {
   "cell_type": "code",
   "execution_count": 3,
   "id": "2db8cdf2-43b2-4f3e-8957-9f4a144c8141",
   "metadata": {},
   "outputs": [
    {
     "name": "stdout",
     "output_type": "stream",
     "text": [
      "luas persegi = 100\n",
      "keliling persegi = 40\n"
     ]
    }
   ],
   "source": [
    "p = 10\n",
    "l = 10\n",
    "print(f'luas persegi = {p*l}')\n",
    "print(f'keliling persegi = {2*(p+l)}')\n"
   ]
  },
  {
   "cell_type": "code",
   "execution_count": 9,
   "id": "b6743641-6359-4d82-bc68-74cf3d1214ed",
   "metadata": {},
   "outputs": [
    {
     "name": "stdout",
     "output_type": "stream",
     "text": [
      "['Dipsi', 'Lala', 'Pou']\n",
      "Dipsi@Lala@Pou\n"
     ]
    }
   ],
   "source": [
    "nama_siswa = \"Dipsi,Lala,Pou\"\n",
    "\n",
    "print(nama_siswa.split(','))\n",
    "print('@'.join(nama_siswa.split(',')))"
   ]
  },
  {
   "cell_type": "markdown",
   "id": "1aeb29b2-f8ea-42f3-b152-8345deb1480f",
   "metadata": {},
   "source": [
    "<h1> Tugas </h1>"
   ]
  },
  {
   "cell_type": "code",
   "execution_count": 38,
   "id": "9c84e96d-523e-40a5-84fa-ba81ef84e663",
   "metadata": {},
   "outputs": [
    {
     "name": "stdin",
     "output_type": "stream",
     "text": [
      "Nama M. Robi Firmansyah\n",
      "Tanggal Lahir 14/April/2004\n"
     ]
    },
    {
     "name": "stdout",
     "output_type": "stream",
     "text": [
      "nama anda : M. Robi Firmansyah\n",
      "Tanggal : 14\n",
      "Bulan : April\n",
      "Tahun : 2004\n",
      "Inisial : MRF\n"
     ]
    }
   ],
   "source": [
    "#input = nama\n",
    "#input = tanggal lahir\n",
    "\n",
    "#output :\n",
    "#nama anda :\n",
    "#tanggal :\n",
    "#bulan :\n",
    "#tahun :\n",
    "#inisial :\n",
    "\n",
    "nama = input('Nama')\n",
    "tanggal = input('Tanggal Lahir')\n",
    "\n",
    "tgls = tanggal.split('/')\n",
    "namas = nama.split()\n",
    "\n",
    "print(f\"nama anda : {nama}\")\n",
    "print(f\"Tanggal : {tgls[0]}\")\n",
    "print(f\"Bulan : {tgls[1]}\")\n",
    "print(f\"Tahun : {tgls[2]}\")\n",
    "print(f\"Inisial : {namas[0][0]}{namas[1][0]}{namas[2][0]}\")"
   ]
  },
  {
   "cell_type": "code",
   "execution_count": null,
   "id": "2ae76cff-3089-45f3-a5fe-0aa9a04d59de",
   "metadata": {},
   "outputs": [],
   "source": []
  }
 ],
 "metadata": {
  "kernelspec": {
   "display_name": "Python 3 (ipykernel)",
   "language": "python",
   "name": "python3"
  },
  "language_info": {
   "codemirror_mode": {
    "name": "ipython",
    "version": 3
   },
   "file_extension": ".py",
   "mimetype": "text/x-python",
   "name": "python",
   "nbconvert_exporter": "python",
   "pygments_lexer": "ipython3",
   "version": "3.11.7"
  }
 },
 "nbformat": 4,
 "nbformat_minor": 5
}
