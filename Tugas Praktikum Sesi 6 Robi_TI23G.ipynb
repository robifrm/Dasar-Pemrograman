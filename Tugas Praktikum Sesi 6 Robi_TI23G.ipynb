{
 "cells": [
  {
   "cell_type": "markdown",
   "id": "4c231068-8cba-4a02-a58b-210b1b499814",
   "metadata": {},
   "source": [
    "<h1> Sesi 6 Dasar Pemrograman</h1>"
   ]
  },
  {
   "cell_type": "code",
   "execution_count": null,
   "id": "fdb0d9f8-f76f-4e38-a383-20892e88f126",
   "metadata": {},
   "outputs": [],
   "source": [
    "Kondisi percabangan adalah sebuah cara "
   ]
  },
  {
   "cell_type": "code",
   "execution_count": 5,
   "id": "56609981-5eb3-4b0d-a926-e7aa837fae77",
   "metadata": {},
   "outputs": [
    {
     "name": "stdout",
     "output_type": "stream",
     "text": [
      "Dingin\n",
      "Hari ini sangat cerah\n"
     ]
    }
   ],
   "source": [
    "cuaca = \"hujan\"\n",
    "if cuaca == \"hujan\":\n",
    "    print(\"Dingin\")\n",
    "print(\"Hari ini sangat cerah\")"
   ]
  },
  {
   "cell_type": "code",
   "execution_count": null,
   "id": "4c4f229a-984b-4323-a167-31cb10a6a448",
   "metadata": {},
   "outputs": [],
   "source": []
  },
  {
   "cell_type": "code",
   "execution_count": 8,
   "id": "64027ff4-4a66-45bd-8fae-5b775aee99d3",
   "metadata": {},
   "outputs": [
    {
     "name": "stdout",
     "output_type": "stream",
     "text": [
      "12 adalah bilangan genap\n"
     ]
    }
   ],
   "source": [
    "#Menentukan ganjil genap\n",
    "nilai = 12\n",
    "sisa_bagi = nilai % 2\n",
    "if sisa_bagi == 0:\n",
    "    print (f\"{nilai} adalah bilangan genap\")\n",
    "else:\n",
    "    print (f\"{nilai} adalah bilangan ganjil\")"
   ]
  },
  {
   "cell_type": "code",
   "execution_count": null,
   "id": "f897a2ca-bae6-494d-8581-36530eb6bc6c",
   "metadata": {},
   "outputs": [],
   "source": [
    "3. Jika terdapat kondisi lebih dari 2\n",
    "\n",
    "sintaksnya:\n",
    "\n",
    "if kondidi_1:\n",
    "<Tab>statment 1\n",
    "elif kondidi_2:"
   ]
  },
  {
   "cell_type": "code",
   "execution_count": 30,
   "id": "f0c943ad-d7bc-4b44-92dd-85ff729fedb1",
   "metadata": {},
   "outputs": [
    {
     "name": "stdin",
     "output_type": "stream",
     "text": [
      "Nilai Pemrograman Anda -90\n"
     ]
    },
    {
     "name": "stdout",
     "output_type": "stream",
     "text": [
      " Kesalahan input\n"
     ]
    }
   ],
   "source": [
    "#konversi nilai\n",
    "\n",
    "nilai = int(input('Nilai Pemrograman Anda'))\n",
    "if nilai >=0 and nilai <= 100:\n",
    "    if nilai <= 49:\n",
    "        print(f\" Indeks nilai anda adalah E\")\n",
    "    elif nilai <= 59:\n",
    "        print(f\" Indeks nilai anda adalah D\")\n",
    "    elif nilai <= 69:\n",
    "        print(f\" Indeks nilai anda adalah C\")\n",
    "    elif nilai <= 84:\n",
    "        print(f\" Indeks nilai anda adalah B\")\n",
    "    elif nilai <= 100:\n",
    "        print(f\" Indeks nilai anda adalah A\")\n",
    "else:\n",
    "    print(f\" Kesalahan input\")"
   ]
  },
  {
   "cell_type": "code",
   "execution_count": 47,
   "id": "9ce4b86f-d6d7-4703-9ed2-e9e4039e4018",
   "metadata": {},
   "outputs": [
    {
     "name": "stdin",
     "output_type": "stream",
     "text": [
      "Isikan username ahha\n",
      "Isikan password admin\n"
     ]
    },
    {
     "name": "stdout",
     "output_type": "stream",
     "text": [
      "Username anda salah\n"
     ]
    }
   ],
   "source": [
    "username = input('Isikan username')\n",
    "password = input('Isikan password')\n",
    "\n",
    "if username == 'admin':\n",
    "    if password == 'admin':\n",
    "        print(f'Username anda benar {username}')\n",
    "    else:\n",
    "        print('Password anda salah')\n",
    "else:\n",
    "    if password == 'admin':\n",
    "        print('Username anda salah')\n",
    "    else:\n",
    "        print('Username dan Password anda salah')"
   ]
  },
  {
   "cell_type": "code",
   "execution_count": 76,
   "id": "d2016b91-f813-46f3-982c-fa3ba5f87581",
   "metadata": {},
   "outputs": [
    {
     "name": "stdin",
     "output_type": "stream",
     "text": [
      "Masukan Nama : Hamid\n",
      "Masukan Umur : 23\n",
      "Tempat Tinggal : Nevada\n",
      "Masukan Uang : 1500000\n"
     ]
    },
    {
     "name": "stdout",
     "output_type": "stream",
     "text": [
      "Hamid Tersangka pangkat Underboss\n"
     ]
    }
   ],
   "source": [
    "#cara saya \n",
    "nama = str(input(\"Masukan Nama :\"))\n",
    "umur = int(input(\"Masukan Umur :\"))\n",
    "tempat = str(input(\"Tempat Tinggal :\"))\n",
    "tabungan = int(input(\"Masukan Uang :\"))\n",
    "\n",
    "if umur > 40:\n",
    "    if tempat == 'Nevada' or tempat == 'New York' or tempat == 'Havana':\n",
    "        if tabungan > 10000000:\n",
    "            print(f'{nama} Tersangka pangkat Don')\n",
    "\n",
    "if umur > 25 or umur < 40 :\n",
    "    if tempat == 'New Jersey' or tempat == 'Manhattan' or tempat == 'Nevada':\n",
    "        if tabungan > 1000000 or tabungan < 2000000 :\n",
    "            print(f'{nama} Tersangka pangkat Underboss')\n",
    "\n",
    "if umur > 18 or umur < 24 :\n",
    "    if tempat == 'California' or tempat == 'Detroit' or tempat == 'Boston':\n",
    "        if tabungan < 1000000 :\n",
    "             print(f'{nama} Tersangka pangkat Capo')\n",
    "\n",
    "else:\n",
    "    print(f\"{nama} Tidak mencurigakan\")"
   ]
  },
  {
   "cell_type": "code",
   "execution_count": 72,
   "id": "67cce9f8-2a8b-4677-b143-4816b2ea263f",
   "metadata": {},
   "outputs": [
    {
     "name": "stdin",
     "output_type": "stream",
     "text": [
      "Masukan Nama : Hamid\n",
      "Masukan Umur : 10\n",
      "Tempat Tinggal : Cidadap\n",
      "Masukan Uang : 2000\n"
     ]
    },
    {
     "name": "stdout",
     "output_type": "stream",
     "text": [
      "Hamid Tidak mencurigakan\n"
     ]
    }
   ],
   "source": [
    "#cara bapa yehhh\n",
    "nama = str(input(\"Masukan Nama :\"))\n",
    "umur = int(input(\"Masukan Umur :\"))\n",
    "tempat = str(input(\"Tempat Tinggal :\"))\n",
    "tabungan = int(input(\"Masukan Uang :\"))\n",
    "\n",
    "pangkat = ''\n",
    "\n",
    "if umur > 40:\n",
    "    if tempat == 'Nevada' or tempat == 'New York' or tempat == 'Havana':\n",
    "        if tabungan > 10000000:\n",
    "            pangkat = 'Don'\n",
    "\n",
    "if umur > 25 or umur < 40 :\n",
    "    if tempat == 'New Jersey' or tempat == 'Manhattan' or tempat == 'Nevada':\n",
    "        if tabungan > 1000000 or tabungan < 2000000 :\n",
    "            pangkat = 'Underboss'\n",
    "\n",
    "if umur > 18 or umur < 24 :\n",
    "    if tempat == 'California' or tempat == 'Detroit' or tempat == 'Boston':\n",
    "        if tabungan < 1000000 :\n",
    "            pangkat = 'Capo'\n",
    "\n",
    "if pangkat != '':\n",
    "    print(f\"{nama} Kemungkinan anggota mafia dengan pangkat {pangkat}\")\n",
    "else:\n",
    "    print(f\"{nama} Tidak mencurigakan\")"
   ]
  }
 ],
 "metadata": {
  "kernelspec": {
   "display_name": "Python 3 (ipykernel)",
   "language": "python",
   "name": "python3"
  },
  "language_info": {
   "codemirror_mode": {
    "name": "ipython",
    "version": 3
   },
   "file_extension": ".py",
   "mimetype": "text/x-python",
   "name": "python",
   "nbconvert_exporter": "python",
   "pygments_lexer": "ipython3",
   "version": "3.11.7"
  }
 },
 "nbformat": 4,
 "nbformat_minor": 5
}
