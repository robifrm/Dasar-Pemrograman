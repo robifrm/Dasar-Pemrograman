{
 "cells": [
  {
   "cell_type": "code",
   "execution_count": null,
   "id": "4afaf739-2fc0-4c8b-96bb-2823d53190a1",
   "metadata": {},
   "outputs": [],
   "source": [
    "<h1> Penerimaan Calon Pro </h1>"
   ]
  },
  {
   "cell_type": "code",
   "execution_count": 7,
   "id": "0bccf10c-423a-4b4c-b530-33ef1bb0a1c3",
   "metadata": {},
   "outputs": [
    {
     "name": "stdin",
     "output_type": "stream",
     "text": [
      "Masukan nilai coding anda : -10\n",
      "Masukan nilai interview anda : A\n"
     ]
    },
    {
     "name": "stdout",
     "output_type": "stream",
     "text": [
      "Maaf Kamu Belum Berhasil Menjadi Calon Programmer\n"
     ]
    }
   ],
   "source": [
    "nilai1 = int(input('Masukan nilai coding anda :'))\n",
    "nilai2 = input('Masukan nilai interview anda :')\n",
    "\n",
    "\n",
    "if nilai1 >=60 and nilai1 <= 100:\n",
    "    if nilai1 >= 80:\n",
    "        hasil_tes1 = 'LOLOS'\n",
    "    elif nilai1 >= 60 :\n",
    "        hasil_tes1 = 'DIPERTIMBANGKAN'\n",
    "    else:\n",
    "        hasil_tes1 = 'TIDAK LOLOS'\n",
    "    \n",
    "    if nilai2 == 'A' or nilai2 == 'B':\n",
    "        hasil_tes2 = 'LOLOS'\n",
    "else:\n",
    "    hasil_tes2 = 'TIDAK LOLOS'\n",
    "    \n",
    "\n",
    "if hasil_tes1 == 'LOLOS' and hasil_tes2 == 'LOLOS':\n",
    "    print('Selamat Kamu Berhasil Menjadi Calon Programmer')\n",
    "elif hasil_tes1 =='DIPERTIMBANGKAN' and hasil_tes2 == 'LOLOS':\n",
    "    print('Selamat Kamu Berhasil Menjadi Calon Programmer')\n",
    "else:\n",
    "    print(\"Maaf Kamu Belum Berhasil Menjadi Calon Programmer\")\n"
   ]
  },
  {
   "cell_type": "markdown",
   "id": "6aff3887-94c2-4509-971c-c79ce6fdb74a",
   "metadata": {},
   "source": [
    "<h1> PERSEGI FC </h1>"
   ]
  },
  {
   "cell_type": "code",
   "execution_count": 14,
   "id": "963185fa-d031-4fe1-bca3-7eace34a757c",
   "metadata": {},
   "outputs": [
    {
     "name": "stdin",
     "output_type": "stream",
     "text": [
      "Masukkan nomor punggung pemain:  45\n"
     ]
    },
    {
     "name": "stdout",
     "output_type": "stream",
     "text": [
      "Nomor punggung 45 dapat digunakan untuk posisi 'keeper'\n"
     ]
    }
   ],
   "source": [
    "nomor_punggung = int(input(\"Masukkan nomor punggung pemain: \"))\n",
    "\n",
    "if nomor_punggung % 2 == 0:\n",
    "    if nomor_punggung > 50 and nomor_punggung <= 100:\n",
    "        print(\"Nomor punggung\", nomor_punggung, \"berhak dipilih menjadi capten team\")\n",
    "    else:\n",
    "        print(\"Nomor punggung\", nomor_punggung, \"dapat digunakan untuk posisi 'target attacker'\")\n",
    "else:\n",
    "    if nomor_punggung > 90:\n",
    "        print(\"Nomor punggung\", nomor_punggung, \"dapat digunakan untuk posisi 'Playmaker'\")\n",
    "    elif nomor_punggung % 3 == 0 or nomor_punggung % 5 == 0:\n",
    "        print(\"Nomor punggung\", nomor_punggung, \"dapat digunakan untuk posisi 'keeper'\")\n",
    "    else:\n",
    "        print(\"Nomor punggung\", nomor_punggung, \"dapat digunakan untuk posisi 'defender'\")"
   ]
  }
 ],
 "metadata": {
  "kernelspec": {
   "display_name": "Python 3 (ipykernel)",
   "language": "python",
   "name": "python3"
  },
  "language_info": {
   "codemirror_mode": {
    "name": "ipython",
    "version": 3
   },
   "file_extension": ".py",
   "mimetype": "text/x-python",
   "name": "python",
   "nbconvert_exporter": "python",
   "pygments_lexer": "ipython3",
   "version": "3.11.7"
  }
 },
 "nbformat": 4,
 "nbformat_minor": 5
}
