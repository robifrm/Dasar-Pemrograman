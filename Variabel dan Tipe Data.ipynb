{
 "cells": [
  {
   "cell_type": "markdown",
   "id": "c9f798f3",
   "metadata": {},
   "source": [
    "<h1>Variabel dan tipe data</h1><hr>\n",
    "tpe data pada python adalah:\n",
    "    <ol.\n",
    "    <Li>Float - (float)</li>\n",
    "    <Li>String - (str)</li>\n",
    "    <Li>Bolean - (bool)</li>\n",
    "    <Li>Integer - (int)</li>\n",
    "    </ol><hr>\n",
    "    Aturan penamaan variabel:\n",
    "        <ul>\n",
    "        <Li>Tidak boleh menggunakan spasi</li>\n",
    "        <Li>Bersifat case sensitive=> A != a</li>\n",
    "        <Li>Terdiri dari huruf, angka dan karakter _ (underscore)</li>\n",
    "        <Li>Diawali underscore atau huruf</li>\n",
    "        <Li>Tidak boleh menggunakan reserved keyword</li>\n",
    "        <hr>\n",
    "        </ul>"
   ]
  },
  {
   "cell_type": "code",
   "execution_count": 37,
   "id": "b480727d",
   "metadata": {},
   "outputs": [
    {
     "name": "stdout",
     "output_type": "stream",
     "text": [
      "0\n",
      "98.5\n",
      "0\n",
      "False\n"
     ]
    }
   ],
   "source": [
    "data_integer = 100\n",
    "data_float = 98.5\n",
    "data_string = \"0\"\n",
    "data_boolean = False\n",
    "\n",
    "data_string\n",
    "print(data_string)\n",
    "print(data_float)\n",
    "print(data_string)\n",
    "print(data_boolean)"
   ]
  },
  {
   "cell_type": "code",
   "execution_count": 38,
   "id": "fd41bd0c",
   "metadata": {},
   "outputs": [
    {
     "name": "stdout",
     "output_type": "stream",
     "text": [
      "<class 'int'>\n",
      "<class 'str'>\n",
      "<class 'float'>\n",
      "<class 'bool'>\n"
     ]
    }
   ],
   "source": [
    "print(type(data_integer))\n",
    "print(type(data_string))\n",
    "print(type(data_float))\n",
    "print(type(data_boolean))"
   ]
  },
  {
   "cell_type": "markdown",
   "id": "7026cd29",
   "metadata": {},
   "source": [
    "<h3>Koversi tipe data dari integer ke (String, Float, Boolean)</h3>"
   ]
  },
  {
   "cell_type": "code",
   "execution_count": 28,
   "id": "f95fdd06",
   "metadata": {},
   "outputs": [
    {
     "name": "stdout",
     "output_type": "stream",
     "text": [
      "isikan bilangan 1:86\n",
      "isikan bilangan 2:4\n",
      "90\n"
     ]
    }
   ],
   "source": [
    "bil1 = input(\"isikan bilangan 1:\")\n",
    "bil2 = input(\"isikan bilangan 2:\")\n",
    "hasil = int(bil1) + int(bil2)\n",
    "print(hasil)\n"
   ]
  },
  {
   "cell_type": "code",
   "execution_count": 39,
   "id": "1a60b174",
   "metadata": {},
   "outputs": [
    {
     "name": "stdout",
     "output_type": "stream",
     "text": [
      "0\n",
      "98\n",
      "0\n",
      "<class 'int'>\n",
      "<class 'int'>\n",
      "<class 'int'>\n"
     ]
    }
   ],
   "source": [
    "string_to_int = int(data_string)\n",
    "float_to_int = int(data_float)\n",
    "bool_to_int = int(data_boolean)\n",
    "\n",
    "\n",
    "print(string_to_int)\n",
    "print(float_to_int)\n",
    "print(bool_to_int)\n",
    "\n",
    "print(type(string_to_int))\n",
    "print(type(float_to_int))\n",
    "print(type(bool_to_int))"
   ]
  },
  {
   "cell_type": "code",
   "execution_count": 40,
   "id": "e398e368",
   "metadata": {},
   "outputs": [
    {
     "name": "stdout",
     "output_type": "stream",
     "text": [
      "0.0\n",
      "100.0\n",
      "0.0\n",
      "<class 'float'>\n",
      "<class 'float'>\n",
      "<class 'float'>\n"
     ]
    }
   ],
   "source": [
    "string_to_float = float(data_string)\n",
    "int_to_float = float(data_integer)\n",
    "bool_to_float = float(data_boolean)\n",
    "\n",
    "\n",
    "print(string_to_float)\n",
    "print(int_to_float)\n",
    "print(bool_to_float)\n",
    "\n",
    "print(type(string_to_float))\n",
    "print(type(int_to_float))\n",
    "print(type(bool_to_float))"
   ]
  },
  {
   "cell_type": "code",
   "execution_count": 41,
   "id": "b3587fa1",
   "metadata": {},
   "outputs": [
    {
     "name": "stdout",
     "output_type": "stream",
     "text": [
      "True\n",
      "True\n",
      "True\n",
      "<class 'bool'>\n",
      "<class 'bool'>\n",
      "<class 'bool'>\n"
     ]
    }
   ],
   "source": [
    "string_to_bool = bool(data_string)\n",
    "float_to_bool = bool(data_float)\n",
    "int_to_bool = bool(data_integer)\n",
    "\n",
    "\n",
    "print(string_to_bool)\n",
    "print(float_to_bool)\n",
    "print(int_to_bool)\n",
    "\n",
    "print(type(string_to_bool))\n",
    "print(type(float_to_bool))\n",
    "print(type(int_to_bool))"
   ]
  },
  {
   "cell_type": "code",
   "execution_count": 44,
   "id": "28d1bc9d",
   "metadata": {},
   "outputs": [
    {
     "name": "stdout",
     "output_type": "stream",
     "text": [
      "False\n",
      "98.5\n",
      "100\n",
      "<class 'str'>\n",
      "<class 'str'>\n",
      "<class 'str'>\n"
     ]
    }
   ],
   "source": [
    "bool_to_str = str(data_boolean)\n",
    "float_to_str = str(data_float)\n",
    "int_to_str = str(data_integer)\n",
    "\n",
    "\n",
    "print(bool_to_str)\n",
    "print(float_to_str)\n",
    "print(int_to_str)\n",
    "\n",
    "print(type(bool_to_str))\n",
    "print(type(float_to_str))\n",
    "print(type(int_to_str))"
   ]
  }
 ],
 "metadata": {
  "kernelspec": {
   "display_name": "Python 3 (ipykernel)",
   "language": "python",
   "name": "python3"
  },
  "language_info": {
   "codemirror_mode": {
    "name": "ipython",
    "version": 3
   },
   "file_extension": ".py",
   "mimetype": "text/x-python",
   "name": "python",
   "nbconvert_exporter": "python",
   "pygments_lexer": "ipython3",
   "version": "3.9.12"
  }
 },
 "nbformat": 4,
 "nbformat_minor": 5
}
