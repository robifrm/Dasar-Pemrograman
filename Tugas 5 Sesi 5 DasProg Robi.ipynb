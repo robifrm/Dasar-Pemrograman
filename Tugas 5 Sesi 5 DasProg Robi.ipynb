{
 "cells": [
  {
   "cell_type": "markdown",
   "id": "812614a4-b22c-4131-b884-457bab5ced12",
   "metadata": {},
   "source": [
    "<h1> My Biodata</h1>"
   ]
  },
  {
   "cell_type": "markdown",
   "id": "af101e89-2fcf-4979-9702-e7d2f6623772",
   "metadata": {},
   "source": [
    "<h4> Membuat biodata sederhana dengan menggunakan fungsi input(), dan output variabel dengan fungsi format().</h4>"
   ]
  },
  {
   "cell_type": "code",
   "execution_count": 11,
   "id": "f80dd925-1eee-4c53-adbe-efb856282498",
   "metadata": {},
   "outputs": [
    {
     "name": "stdin",
     "output_type": "stream",
     "text": [
      "Nama : M. Robi Firmansyah\n",
      "Tempat, Tanggal Lahir : Sukabumi, 12 April 2004\n",
      "Jenis Kelamin : Laki-laki\n",
      "Agama : Islam\n"
     ]
    },
    {
     "name": "stdout",
     "output_type": "stream",
     "text": [
      "Hello, M. Robi Firmansyah Kamu lahir di Sukabumi, 12 April 2004 Dengan jenis kelamin Laki-laki dan beragama Islam\n"
     ]
    }
   ],
   "source": [
    "nama = input('Nama :')\n",
    "ttl = input('Tempat, Tanggal Lahir :')\n",
    "jenis_kelamin = input ('Jenis Kelamin :')\n",
    "agama = input('Agama :')\n",
    "\n",
    "greeting = 'Hello, {} Kamu lahir di {} Dengan jenis kelamin {} dan beragama {}'.format(nama, ttl, jenis_kelamin, agama)\n",
    "print(greeting)"
   ]
  },
  {
   "cell_type": "code",
   "execution_count": 109,
   "id": "f2422b02-fa3c-42d3-9ac7-38254748c957",
   "metadata": {},
   "outputs": [
    {
     "name": "stdout",
     "output_type": "stream",
     "text": [
      "PUTRA NUSA\n",
      "NIVERSITAS NSA PTRA SKABMI\n",
      "SUKABUMI PUTRA NUSA UNIVERSITAS\n",
      "UNPS\n",
      "TAS SAPU BUMI\n"
     ]
    }
   ],
   "source": [
    "kampus = \"UNIVERSITAS NUSA PUTRA SUKABUMI\"\n",
    "kampuss = kampus.split()\n",
    "print(f\"{kampuss[2]} {kampuss[1]}\")\n",
    "print(kampus[1:13]+kampus[14:18]+kampus[19:24]+kampus[25:28]+kampus[29:31])\n",
    "print(f\"{kampuss[3]} {kampuss[2]} {kampuss[1]} {kampuss[0]}\")\n",
    "print(f\"{kampuss[0][0]}{kampuss[1][0]}{kampuss[2][0]}{kampuss[3][0]}\") #UNPS\n",
    "print(kampus[8:11],kampus[14:16]+kampus[17:19],kampus[27:31])"
   ]
  },
  {
   "cell_type": "code",
   "execution_count": null,
   "id": "9b394171-e828-4449-b544-2ee3a05bf277",
   "metadata": {},
   "outputs": [],
   "source": []
  },
  {
   "cell_type": "code",
   "execution_count": null,
   "id": "abc66fcc-d645-4d8f-895f-c09b25a5c391",
   "metadata": {},
   "outputs": [],
   "source": []
  }
 ],
 "metadata": {
  "kernelspec": {
   "display_name": "Python 3 (ipykernel)",
   "language": "python",
   "name": "python3"
  },
  "language_info": {
   "codemirror_mode": {
    "name": "ipython",
    "version": 3
   },
   "file_extension": ".py",
   "mimetype": "text/x-python",
   "name": "python",
   "nbconvert_exporter": "python",
   "pygments_lexer": "ipython3",
   "version": "3.11.7"
  }
 },
 "nbformat": 4,
 "nbformat_minor": 5
}
