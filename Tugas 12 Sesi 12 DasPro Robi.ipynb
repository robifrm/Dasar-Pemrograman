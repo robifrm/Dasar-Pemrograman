{
 "cells": [
  {
   "cell_type": "code",
   "execution_count": 12,
   "id": "78262f9f-f191-42d9-915a-5e2fe17065f5",
   "metadata": {},
   "outputs": [],
   "source": [
    "import Uppercase as u"
   ]
  },
  {
   "cell_type": "code",
   "execution_count": 16,
   "id": "f36784fb-cd72-4f37-95e1-1f5a55f8081a",
   "metadata": {},
   "outputs": [
    {
     "data": {
      "text/plain": [
       "6"
      ]
     },
     "execution_count": 16,
     "metadata": {},
     "output_type": "execute_result"
    }
   ],
   "source": [
    "u.upper(\"HaLLOMrobiF\")"
   ]
  }
 ],
 "metadata": {
  "kernelspec": {
   "display_name": "Python 3 (ipykernel)",
   "language": "python",
   "name": "python3"
  },
  "language_info": {
   "codemirror_mode": {
    "name": "ipython",
    "version": 3
   },
   "file_extension": ".py",
   "mimetype": "text/x-python",
   "name": "python",
   "nbconvert_exporter": "python",
   "pygments_lexer": "ipython3",
   "version": "3.11.7"
  }
 },
 "nbformat": 4,
 "nbformat_minor": 5
}
